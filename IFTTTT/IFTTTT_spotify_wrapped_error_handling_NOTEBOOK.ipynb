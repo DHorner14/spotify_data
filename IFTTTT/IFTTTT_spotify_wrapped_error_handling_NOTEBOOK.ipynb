{
 "cells": [
  {
   "cell_type": "markdown",
   "id": "bffa50dc",
   "metadata": {},
   "source": [
    "# This corresponds to IFTTT_spotify_wrapped_error_handling.py - A modified version with config and error handling\n",
    "\n",
    "# Be sure to run the cells below in order for it to work!\n",
    "\n",
    "## The only thing you really need to edit is your link to your Google Spreadsheet. (`WRAP=`)"
   ]
  },
  {
   "cell_type": "code",
   "execution_count": null,
   "id": "8487114a",
   "metadata": {},
   "outputs": [],
   "source": [
    "# Import packages\n",
    "\n",
    "import pandas as pd\n",
    "import re\n",
    "from datetime import datetime\n",
    "\n",
    "\n",
    "from collections import Counter"
   ]
  },
  {
   "cell_type": "code",
   "execution_count": null,
   "id": "37e7672c",
   "metadata": {},
   "outputs": [],
   "source": [
    "CONFIG = {\n",
    "    'columnA-name': 'date', # date\n",
    "    'columnB-name' :'song', # song\n",
    "    'columnC-name': 'artist' # artist\n",
    "} # Title this to match your header. Case sensitive.\n",
    "\n",
    "WRAP = \"\" # Insert Google Sheet link between quotes (should end in something like \"gid=0\")\n",
    "\n",
    "\n",
    "artist_index = 10 # How many artists you want to have printed out (top 10 listened to artists)\n",
    "song_index = 10 # How many songs you want to have printed out (top 10 listened to songs)"
   ]
  },
  {
   "cell_type": "code",
   "execution_count": null,
   "id": "207281a1",
   "metadata": {},
   "outputs": [],
   "source": [
    "current_datetime = datetime.now()\n",
    "current_month = current_datetime.strftime(\"%B\") # Automatically computes current month if you want to do it monthly\n",
    "current_month = \"2024\" # Comment this line if you want to only look at the current month"
   ]
  },
  {
   "cell_type": "markdown",
   "id": "0302949f",
   "metadata": {},
   "source": [
    "## You don't have to change anything in the below code block (unless you want to customize the results it prints)"
   ]
  },
  {
   "cell_type": "code",
   "execution_count": null,
   "id": "55a52bc7",
   "metadata": {},
   "outputs": [],
   "source": [
    "google_sheets_link = WRAP\n",
    "\n",
    "def convert_google_sheet_url(url):\n",
    "    # Regular expression to match and capture the necessary part of the URL\n",
    "    pattern = r'https://docs\\.google\\.com/spreadsheets/d/([a-zA-Z0-9-_]+)(/edit#gid=(\\d+)|/edit.*)?'\n",
    "\n",
    "    # Replace function to construct the new URL for CSV export\n",
    "    # If gid is present in the URL, it includes it in the export URL, otherwise, it's omitted\n",
    "    replacement = lambda m: f'https://docs.google.com/spreadsheets/d/{m.group(1)}/export?' + (f'gid={m.group(3)}&' if m.group(3) else '') + 'format=csv'\n",
    "\n",
    "    # Replace using regex\n",
    "    new_url = re.sub(pattern, replacement, url)\n",
    "\n",
    "    return new_url\n",
    "\n",
    "pandas_url = convert_google_sheet_url(google_sheets_link)\n",
    "\n",
    "df = pd.read_csv(pandas_url)\n",
    "\n",
    "df = pd.read_csv(pandas_url)\n",
    "artist = CONFIG['columnC-name']\n",
    "try:\n",
    "    counts = Counter(df[artist])\n",
    "    wrapped_artist = CONFIG['columnC-name']\n",
    "    wrapped_song = CONFIG['columnB-name']\n",
    "except (KeyError, AttributeError):\n",
    "    print(\"Please check your google spreadsheet and ensure the headers both exist and match the config.\")\n",
    "    quit()\n",
    "\n",
    "print(\"\\n\")"
   ]
  },
  {
   "cell_type": "markdown",
   "id": "0e5ce87f",
   "metadata": {},
   "source": [
    "## If you are doing it monthly instead of the entire year, you can comment out everything in the below code block (or just don't run it)"
   ]
  },
  {
   "cell_type": "code",
   "execution_count": null,
   "id": "68cf883f",
   "metadata": {},
   "outputs": [],
   "source": [
    "if df.date.str.contains(f'{current_month}').any():\n",
    "    wrapped = (df[df.date.str.contains(f'{current_month}')])\n",
    "    print(f\"JANUARY SONG NUMBER: {len(df[df.date.str.contains('January')])} (ROUGHLY {3*len(df[df.date.str.contains('January')]) / 60} HOURS)\")\n",
    "    print(f\"FEBRUARY SONG NUMBER: {len(df[df.date.str.contains('February')])} (ROUGHLY {3*len(df[df.date.str.contains('February')]) / 60} HOURS)\")\n",
    "    print(f\"MARCH SONG NUMBER: {len(df[df.date.str.contains('March')])} (ROUGHLY {3*len(df[df.date.str.contains('March')]) / 60} HOURS)\")\n",
    "    print(f\"APRIL SONG NUMBER: {len(df[df.date.str.contains('April')])} (ROUGHLY {3*len(df[df.date.str.contains('April')]) / 60} HOURS)\")\n",
    "    print(f\"MAY SONG NUMBER: {len(df[df.date.str.contains('May')])} (ROUGHLY {3*len(df[df.date.str.contains('May')]) / 60} HOURS)\")\n",
    "    print(f\"JUNE SONG NUMBER: {len(df[df.date.str.contains('June')])} (ROUGHLY {3*len(df[df.date.str.contains('June')]) / 60} HOURS)\")\n",
    "    print(f\"JULY SONG NUMBER: {len(df[df.date.str.contains('July')])} (ROUGHLY {3*len(df[df.date.str.contains('July')]) / 60} HOURS)\")\n",
    "    print(f\"AUGUST SONG NUMBER: {len(df[df.date.str.contains('August')])} (ROUGHLY {3*len(df[df.date.str.contains('August')]) / 60} HOURS)\")\n",
    "    print(f\"SEPTEMBER SONG NUMBER: {len(df[df.date.str.contains('September')])} (ROUGHLY {3*len(df[df.date.str.contains('September')]) / 60} HOURS)\")\n",
    "    print(f\"OCTOBER SONG NUMBER: {len(df[df.date.str.contains('October')])} (ROUGHLY {3*len(df[df.date.str.contains('October')]) / 60} HOURS)\")\n",
    "    print(f\"NOVEMBER SONG NUMBER: {len(df[df.date.str.contains('November')])} (ROUGHLY {3*len(df[df.date.str.contains('November')]) / 60} HOURS)\")\n",
    "\n",
    "print(\"\\n\")"
   ]
  },
  {
   "cell_type": "markdown",
   "id": "b5e56ccd",
   "metadata": {},
   "source": [
    "## You can run the below code block regardless of monthly/yearly listening"
   ]
  },
  {
   "cell_type": "code",
   "execution_count": null,
   "id": "8b32340d",
   "metadata": {},
   "outputs": [],
   "source": [
    "counts_1 = Counter(wrapped.artist)\n",
    "counts_2 = Counter(wrapped.song)\n",
    "\n",
    "most_popular_artist = dict()\n",
    "most_popular_song = dict()\n",
    "\n",
    "print(f\"I LISTENED TO {len(counts_1.items())} DIFFERENT ARTISTS IN 2024\\n\")\n",
    "\n",
    "print(f\"I LISTENED TO {len(wrapped)} SONGS IN 2024 (ROUGHLY {3*len(wrapped)} MINUTES OR {3*len(wrapped) / 60} HOURS OR {3*len(wrapped) / 60 / 24} DAYS) \\n\")\n",
    "\n",
    "print(f\"I LISTENED TO {len(counts_2.items())} DIFFERENT SONGS IN 2024\\n\")\n",
    "\n",
    "print(\"_________________________________________________________\\n\")\n",
    "\n",
    "for key, value in counts_1.items():\n",
    "    if value >= 10: # Looks at how many artists you've listened to more than ten times\n",
    "        most_popular_artist[key] = value\n",
    "\n",
    "for key, value in counts_2.items():\n",
    "    if value >= 15: # Looks at how many songs you've listened to more than fifteen times\n",
    "        most_popular_song[key] = value\n",
    "\n",
    "\n",
    "most_popular_artist = (dict(sorted(most_popular_artist.items(), key=lambda x:x[1], reverse = True)))\n",
    "most_popular_song = (dict(sorted(most_popular_song.items(), key=lambda x:x[1], reverse = True)))\n",
    "\n",
    "keys_list_artist = list(most_popular_artist.keys())\n",
    "values_list_artist = list(most_popular_artist.values())\n",
    "\n",
    "#print(f\"ARTISTS WITH MORE THAN 10 PLAYS IN {current_month}:\\n\")\n",
    "\n",
    "print(\"MY TOP TEN ARTISTS ON SPOTIFY OF 2024\")\n",
    "\n",
    "for i in range(0, artist_index): #range(len(keys_list_artist)): # Provides your top ten artists, if you want all artists more >= 10, change range to commented\n",
    "    print(values_list_artist[i], keys_list_artist[i])\n",
    "\n",
    "keys_list_song = list(most_popular_song.keys())\n",
    "values_list_song = list(most_popular_song.values())\n",
    "\n",
    "print(\"_________________________________________________________\\n\")\n",
    "\n",
    "#print(f\"SONGS WITH MORE THAN 5 PLAYS IN {current_month}:\\n\")\n",
    "print(\"MY TOP TEN SONGS ON SPOTIFY OF 2024\")\n",
    "\n",
    "for i in range(0, song_index): #range(len(keys_list_song)): # Provides top ten songs, if you want all songs >= 15, change range to commented\n",
    "    print(values_list_song[i], keys_list_song[i])\n",
    "\n",
    "for key, value in counts_1.items():\n",
    "    if value == 1: # Counts artists you've only played one time\n",
    "        most_popular_artist[key] = value\n",
    "\n",
    "for key, value in counts_2.items():\n",
    "    if value == 1: # Counts number of songs only played one time\n",
    "        most_popular_song[key] = value\n",
    "\n",
    "\n",
    "most_popular_artist = (dict(sorted(most_popular_artist.items(), key=lambda x:x[1], reverse = True)))\n",
    "most_popular_song = (dict(sorted(most_popular_song.items(), key=lambda x:x[1], reverse = True)))\n",
    "\n",
    "keys_list_artist = list(most_popular_artist.keys())\n",
    "values_list_artist = list(most_popular_artist.values())\n",
    "\n",
    "keys_list_song = list(most_popular_song.keys())\n",
    "values_list_song = list(most_popular_song.values())\n",
    "\n",
    "\n",
    "print(\"\\n\")\n",
    "print(\"_________________________________________________________\\n\")\n",
    "print(\"\\n\")\n",
    "print(f\"I LISTENED TO {len(keys_list_artist)} ARTISTS ONLY ONE TIME IN 2024\")\n",
    "print(\"\\n\")\n",
    "print(f\"I LISTENED TO {len(keys_list_song)} SONGS ONLY ONE TIME IN 2024\")\n",
    "print(\"\\n\")\n",
    "\n",
    "\n",
    "artist_counts = Counter(wrapped['artist'])\n",
    "count_taylor_swift = artist_counts[\"Taylor Swift\"] # Can change \"Taylor Swift\" to any artist\n",
    "print(f\"TAYLOR SWIFT COUNT: {count_taylor_swift}\")\n",
    "print(\"\\n\")"
   ]
  }
 ],
 "metadata": {
  "kernelspec": {
   "display_name": "Python 3",
   "language": "python",
   "name": "python3"
  },
  "language_info": {
   "codemirror_mode": {
    "name": "ipython",
    "version": 3
   },
   "file_extension": ".py",
   "mimetype": "text/x-python",
   "name": "python",
   "nbconvert_exporter": "python",
   "pygments_lexer": "ipython3",
   "version": "3.8.8"
  }
 },
 "nbformat": 4,
 "nbformat_minor": 5
}
